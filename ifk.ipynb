{
 "cells": [
  {
   "cell_type": "code",
   "execution_count": 3,
   "metadata": {},
   "outputs": [
    {
     "data": {
      "text/plain": [
       "'prod_ObB5K39gow4Sdu'"
      ]
     },
     "execution_count": 3,
     "metadata": {},
     "output_type": "execute_result"
    }
   ],
   "source": [
    "{\n",
    "  \"id\": \"prod_ObB5K39gow4Sdu\",\n",
    "  \"object\": \"product\",\n",
    "\n",
    "  \"created\": 1694156611,\n",
    "\n",
    "  \"description\": \"Donec volutpat erat erat, sit amet gravida justo sodales in. Phasellus tempus euismod urna. Proin ultrices nisi ut ipsum congue, vitae porttitor libero suscipit. Pellentesque habitant morbi tristique senectus et netus et malesuada fames ac turpis egestas. Aliquam lacinia a nisi non congue.\",\n",
    "  \"features\": [],\n",
    "  \"images\": [\n",
    "    \"https://rocky-mountain-34975-e7f3a9c20eb0.herokuapp.com/images/toilet-paper.jpg\"\n",
    "  ],\n",
    "\n",
    "  \"metadata\": {},\n",
    "  \"name\": \"Gold Special\",\n",
    "\n",
    "\n",
    "}['id']"
   ]
  },
  {
   "cell_type": "code",
   "execution_count": 6,
   "metadata": {},
   "outputs": [
    {
     "name": "stdout",
     "output_type": "stream",
     "text": [
      "Moviepy - Running:\n",
      ">>> \"+ \" \".join(cmd)\n",
      "Moviepy - Command successful\n",
      "Video cut successfully!\n"
     ]
    }
   ],
   "source": [
    "from moviepy.video.io.ffmpeg_tools import ffmpeg_extract_subclip\n",
    "\n",
    "# Set the input video file path\n",
    "input_video_path = \"bbbb.mp4\"\n",
    "\n",
    "# Define the start and end times for the cut (in seconds)\n",
    "start_time = 0  # Start from the beginning\n",
    "end_time = 20   # Cut at 20 seconds\n",
    "\n",
    "# Set the output video file path\n",
    "output_video_path = \"output_cut_video.mp4\"\n",
    "\n",
    "# Use ffmpeg to extract the subclip\n",
    "ffmpeg_extract_subclip(input_video_path, start_time, end_time, targetname=output_video_path)\n",
    "\n",
    "print(\"Video cut successfully!\")\n"
   ]
  }
 ],
 "metadata": {
  "kernelspec": {
   "display_name": "Python 3",
   "language": "python",
   "name": "python3"
  },
  "language_info": {
   "codemirror_mode": {
    "name": "ipython",
    "version": 3
   },
   "file_extension": ".py",
   "mimetype": "text/x-python",
   "name": "python",
   "nbconvert_exporter": "python",
   "pygments_lexer": "ipython3",
   "version": "3.11.4"
  },
  "orig_nbformat": 4
 },
 "nbformat": 4,
 "nbformat_minor": 2
}

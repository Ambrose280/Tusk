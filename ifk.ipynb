{
 "cells": [
  {
   "cell_type": "code",
   "execution_count": 9,
   "metadata": {},
   "outputs": [
    {
     "name": "stdout",
     "output_type": "stream",
     "text": [
      "Unix Timestamp: 1677648000\n",
      "Human-Readable Date and Time (UTC): 2023-03-01 05:20:00\n"
     ]
    }
   ],
   "source": [
    "import datetime\n",
    "\n",
    "timestamp =1677648000\n",
    "date_time = datetime.datetime.utcfromtimestamp(timestamp)\n",
    "\n",
    "print(\"Unix Timestamp:\", timestamp)\n",
    "print(\"Human-Readable Date and Time (UTC):\", date_time)\n"
   ]
  },
  {
   "cell_type": "code",
   "execution_count": 17,
   "metadata": {},
   "outputs": [
    {
     "name": "stdout",
     "output_type": "stream",
     "text": [
      "Unix Timestamp: 1682914800\n"
     ]
    }
   ],
   "source": [
    "from datetime import datetime\n",
    "\n",
    "# Input date and time string\n",
    "date_time_string = \"2023-05-01 05:20:00\"\n",
    "\n",
    "try:\n",
    "    # Parse the input string into a datetime object\n",
    "    date_time = datetime.strptime(date_time_string, \"%Y-%m-%d %H:%M:%S\")\n",
    "\n",
    "    # Convert the datetime object to a Unix timestamp\n",
    "    unix_timestamp = int(date_time.timestamp())\n",
    "\n",
    "    # Print the Unix timestamp\n",
    "    print(\"Unix Timestamp:\", unix_timestamp)\n",
    "\n",
    "except ValueError:\n",
    "    print(\"Invalid date and time format. Please use 'YYYY-MM-DD HH:MM:SS' format.\")\n"
   ]
  },
  {
   "cell_type": "code",
   "execution_count": null,
   "metadata": {},
   "outputs": [],
   "source": [
    "1677644400, 1682914800"
   ]
  },
  {
   "cell_type": "code",
   "execution_count": 6,
   "metadata": {},
   "outputs": [
    {
     "name": "stdout",
     "output_type": "stream",
     "text": [
      "Moviepy - Running:\n",
      ">>> \"+ \" \".join(cmd)\n",
      "Moviepy - Command successful\n",
      "Video cut successfully!\n"
     ]
    }
   ],
   "source": [
    "from moviepy.video.io.ffmpeg_tools import ffmpeg_extract_subclip\n",
    "\n",
    "# Set the input video file path\n",
    "input_video_path = \"bbbb.mp4\"\n",
    "\n",
    "# Define the start and end times for the cut (in seconds)\n",
    "start_time = 0  # Start from the beginning\n",
    "end_time = 20   # Cut at 20 seconds\n",
    "\n",
    "# Set the output video file path\n",
    "output_video_path = \"output_cut_video.mp4\"\n",
    "\n",
    "# Use ffmpeg to extract the subclip\n",
    "ffmpeg_extract_subclip(input_video_path, start_time, end_time, targetname=output_video_path)\n",
    "\n",
    "print(\"Video cut successfully!\")\n"
   ]
  }
 ],
 "metadata": {
  "kernelspec": {
   "display_name": "Python 3",
   "language": "python",
   "name": "python3"
  },
  "language_info": {
   "codemirror_mode": {
    "name": "ipython",
    "version": 3
   },
   "file_extension": ".py",
   "mimetype": "text/x-python",
   "name": "python",
   "nbconvert_exporter": "python",
   "pygments_lexer": "ipython3",
   "version": "3.11.4"
  },
  "orig_nbformat": 4
 },
 "nbformat": 4,
 "nbformat_minor": 2
}

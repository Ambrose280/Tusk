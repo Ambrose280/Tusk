{
 "cells": [
  {
   "cell_type": "code",
   "execution_count": 9,
   "metadata": {},
   "outputs": [
    {
     "name": "stdout",
     "output_type": "stream",
     "text": [
      "Unix Timestamp: 1677648000\n",
      "Human-Readable Date and Time (UTC): 2023-03-01 05:20:00\n"
     ]
    }
   ],
   "source": [
    "import datetime\n",
    "\n",
    "timestamp =1677648000\n",
    "date_time = datetime.datetime.utcfromtimestamp(timestamp)\n",
    "\n",
    "print(\"Unix Timestamp:\", timestamp)\n",
    "print(\"Human-Readable Date and Time (UTC):\", date_time)\n"
   ]
  },
  {
   "cell_type": "code",
   "execution_count": 4,
   "metadata": {},
   "outputs": [
    {
     "data": {
      "text/plain": [
       "<Customer customer id=cus_ObdIxyQ9HvE9yI at 0x1ee1f84cb30> JSON: {\n",
       "  \"address\": null,\n",
       "  \"balance\": 0,\n",
       "  \"created\": 1694261540,\n",
       "  \"currency\": null,\n",
       "  \"default_currency\": null,\n",
       "  \"default_source\": null,\n",
       "  \"delinquent\": false,\n",
       "  \"description\": \"My First Test Customer (created for API docs at https://www.stripe.com/docs/api)\",\n",
       "  \"discount\": null,\n",
       "  \"email\": null,\n",
       "  \"id\": \"cus_ObdIxyQ9HvE9yI\",\n",
       "  \"invoice_prefix\": \"02773B85\",\n",
       "  \"invoice_settings\": {\n",
       "    \"custom_fields\": null,\n",
       "    \"default_payment_method\": null,\n",
       "    \"footer\": null,\n",
       "    \"rendering_options\": null\n",
       "  },\n",
       "  \"livemode\": false,\n",
       "  \"metadata\": {},\n",
       "  \"name\": null,\n",
       "  \"next_invoice_sequence\": 1,\n",
       "  \"object\": \"customer\",\n",
       "  \"phone\": null,\n",
       "  \"preferred_locales\": [],\n",
       "  \"shipping\": null,\n",
       "  \"tax_exempt\": \"none\",\n",
       "  \"test_clock\": null\n",
       "}"
      ]
     },
     "execution_count": 4,
     "metadata": {},
     "output_type": "execute_result"
    }
   ],
   "source": [
    "import stripe\n",
    "\n",
    "# Set your Stripe API key\n",
    "stripe.api_key = \"sk_test_51HkmtsAJvNbNl69D8n0AJCcHMj26XrDoeP0d0dB9uw5PISqtGJMXikJSyQgRm0pKzH2lu4jjz6S1oD3JxQgoB25f00Hs2lUxWJ\"\n",
    "\n",
    "# Replace with the actual Payment Intent ID\n",
    "\n",
    "\n",
    "stripe.Customer.create(\n",
    "  description=\"My First Test Customer (created for API docs at https://www.stripe.com/docs/api)\",\n",
    ")\n",
    "\n"
   ]
  },
  {
   "cell_type": "code",
   "execution_count": 17,
   "metadata": {},
   "outputs": [
    {
     "name": "stdout",
     "output_type": "stream",
     "text": [
      "Unix Timestamp: 1682914800\n"
     ]
    }
   ],
   "source": [
    "from datetime import datetime\n",
    "\n",
    "# Input date and time string\n",
    "date_time_string = \"2023-05-01 05:20:00\"\n",
    "\n",
    "try:\n",
    "    # Parse the input string into a datetime object\n",
    "    date_time = datetime.strptime(date_time_string, \"%Y-%m-%d %H:%M:%S\")\n",
    "\n",
    "    # Convert the datetime object to a Unix timestamp\n",
    "    unix_timestamp = int(date_time.timestamp())\n",
    "\n",
    "    # Print the Unix timestamp\n",
    "    print(\"Unix Timestamp:\", unix_timestamp)\n",
    "\n",
    "except ValueError:\n",
    "    print(\"Invalid date and time format. Please use 'YYYY-MM-DD HH:MM:SS' format.\")\n"
   ]
  },
  {
   "cell_type": "code",
   "execution_count": null,
   "metadata": {},
   "outputs": [],
   "source": [
    "1677644400, 1682914800"
   ]
  },
  {
   "cell_type": "code",
   "execution_count": 6,
   "metadata": {},
   "outputs": [
    {
     "name": "stdout",
     "output_type": "stream",
     "text": [
      "Moviepy - Running:\n",
      ">>> \"+ \" \".join(cmd)\n",
      "Moviepy - Command successful\n",
      "Video cut successfully!\n"
     ]
    }
   ],
   "source": [
    "from moviepy.video.io.ffmpeg_tools import ffmpeg_extract_subclip\n",
    "\n",
    "# Set the input video file path\n",
    "input_video_path = \"bbbb.mp4\"\n",
    "\n",
    "# Define the start and end times for the cut (in seconds)\n",
    "start_time = 0  # Start from the beginning\n",
    "end_time = 20   # Cut at 20 seconds\n",
    "\n",
    "# Set the output video file path\n",
    "output_video_path = \"output_cut_video.mp4\"\n",
    "\n",
    "# Use ffmpeg to extract the subclip\n",
    "ffmpeg_extract_subclip(input_video_path, start_time, end_time, targetname=output_video_path)\n",
    "\n",
    "print(\"Video cut successfully!\")\n"
   ]
  },
  {
   "cell_type": "markdown",
   "metadata": {},
   "source": [
    "views.py\n"
   ]
  },
  {
   "cell_type": "code",
   "execution_count": null,
   "metadata": {},
   "outputs": [],
   "source": [
    "@api_view(['GET', 'POST'])\n",
    "@permission_classes([IsAuthenticated])\n",
    "def userprofiles(request):\n",
    "    if request.method == 'GET':\n",
    "        query = request.GET.get('query', '')\n",
    "        # e.g 127.0.0.1:8000/userprofiles/?query=john\n",
    "        profiles = Profile.objects.filter(Q(username__icontains=query))\n",
    "        serializer = ProfileSerializer(profiles, many=True)\n",
    "        return Response(serializer.data, status=status.HTTP_200_OK)\n",
    "\n",
    "    if request.method == 'POST':\n",
    "        serializer = ProfileSerializer(data=request.data)\n",
    "        if serializer.is_valid():\n",
    "            serializer.save()\n",
    "            return Response(serializer.data, status=status.HTTP_201_CREATED)\n",
    "        return Response(serializer.errors, status=status.HTTP_400_BAD_REQUEST)\n",
    "\n",
    "    \n",
    "@api_view(['GET', 'PUT', 'DELETE', 'PATCH'])\n",
    "@permission_classes([IsAuthenticated])\n",
    "def userprofiledetail(request, pk):\n",
    "    try:\n",
    "        profile = Profile.objects.get(pk=pk)\n",
    "    except Profile.DoesNotExist:\n",
    "        return Response({\"detail\": \"Profile not found\"}, status=status.HTTP_404_NOT_FOUND)\n",
    "\n",
    "    if request.method == 'GET':\n",
    "        serializer = ProfileSerializer(profile, many=False)\n",
    "        return Response(serializer.data, status=status.HTTP_200_OK)\n",
    "\n",
    "    if request.method == 'PUT':\n",
    "        serializer = ProfileSerializer(profile, data=request.data)\n",
    "        if serializer.is_valid():\n",
    "            serializer.save()\n",
    "            return Response(serializer.data, status=status.HTTP_200_OK)\n",
    "        return Response(serializer.errors, status=status.HTTP_400_BAD_REQUEST)\n",
    "    \n",
    "    if request.method == 'PUT':\n",
    "        serializer = ProfileSerializer(profile, data=request.data)\n",
    "        if serializer.is_valid():\n",
    "            serializer.save()\n",
    "            return Response(serializer.data, status=status.HTTP_200_OK)\n",
    "        return Response(serializer.errors, status=status.HTTP_400_BAD_REQUEST)\n",
    "    \n",
    "    if request.method == 'PATCH':\n",
    "        serializer = ProfileSerializer(profile, data=request.data, partial=True)\n",
    "        serializer = ProfileSerializer(profile, data=request.data, partial=True)\n",
    "\n",
    "    if request.method == 'DELETE':\n",
    "        profile.delete()\n",
    "        return Response({\"detail\": \"Profile deleted successfully\"}, status=status.HTTP_204_NO_CONTENT)"
   ]
  },
  {
   "cell_type": "markdown",
   "metadata": {},
   "source": [
    "urls.py"
   ]
  },
  {
   "cell_type": "code",
   "execution_count": null,
   "metadata": {},
   "outputs": [],
   "source": [
    "path('userprofiles/', views.userprofiles, name= \"userprofiles\"),\n",
    "path('userprofile/<int:pk>', views.userprofiledetail, name='userprofiledetail'),"
   ]
  },
  {
   "cell_type": "code",
   "execution_count": null,
   "metadata": {},
   "outputs": [],
   "source": [
    "class Profile(models.Model):\n",
    "    user = models.ForeignKey(User, on_delete=models.CASCADE, null=True)\n",
    "    bio = models.TextField(blank=True)  # Changed to TextField for longer descriptions\n",
    "    image = models.ImageField(upload_to='profileimgs', blank=True, null=True, default='profileimgs/ifiok.png')\n",
    "    joined = models.DateTimeField(auto_now_add=True)\n",
    "    followers = models.ManyToManyField(User, related_name='followers', blank=True)\n",
    "    following = models.ManyToManyField(User, related_name='followers', blank=True)\n"
   ]
  },
  {
   "cell_type": "code",
   "execution_count": null,
   "metadata": {},
   "outputs": [],
   "source": [
    "from .models import *\n",
    "\n",
    "class ProfileSerializer(ModelSerializer):\n",
    "    class Meta:\n",
    "        model = Profile\n",
    "        fields = '__all__'"
   ]
  }
 ],
 "metadata": {
  "kernelspec": {
   "display_name": "Python 3",
   "language": "python",
   "name": "python3"
  },
  "language_info": {
   "codemirror_mode": {
    "name": "ipython",
    "version": 3
   },
   "file_extension": ".py",
   "mimetype": "text/x-python",
   "name": "python",
   "nbconvert_exporter": "python",
   "pygments_lexer": "ipython3",
   "version": "3.11.4"
  },
  "orig_nbformat": 4
 },
 "nbformat": 4,
 "nbformat_minor": 2
}

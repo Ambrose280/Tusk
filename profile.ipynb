{
 "cells": [
  {
   "cell_type": "markdown",
   "metadata": {},
   "source": [
    "SERIALIZERS.PY"
   ]
  },
  {
   "cell_type": "code",
   "execution_count": null,
   "metadata": {},
   "outputs": [],
   "source": [
    "class Profile(models.Model):\n",
    "    user = models.ForeignKey(User, on_delete=models.CASCADE, null=True)\n",
    "    bio = models.TextField(blank=True)  # Changed to TextField for longer descriptions\n",
    "    image = models.ImageField(upload_to='profileimgs', blank=True, null=True, default='profileimgs/ifiok.png')\n",
    "    joined = models.DateTimeField(auto_now_add=True)\n",
    "    followers = models.ManyToManyField(User, related_name='followers', blank=True)\n",
    "    following = models.ManyToManyField(User, related_name='followers', blank=True)"
   ]
  },
  {
   "cell_type": "markdown",
   "metadata": {},
   "source": [
    "SERIALIZERS.PY"
   ]
  },
  {
   "cell_type": "code",
   "execution_count": null,
   "metadata": {},
   "outputs": [],
   "source": [
    "from .models import *\n",
    "\n",
    "class ProfileSerializer(ModelSerializer):\n",
    "    class Meta:\n",
    "        model = Profile\n",
    "        fields = '__all__'"
   ]
  },
  {
   "cell_type": "markdown",
   "metadata": {},
   "source": [
    "VIEWS.PY"
   ]
  },
  {
   "cell_type": "code",
   "execution_count": null,
   "metadata": {},
   "outputs": [],
   "source": [
    "@api_view(['GET', 'POST'])\n",
    "@permission_classes([IsAuthenticated])\n",
    "def userprofiles(request):\n",
    "    if request.method == 'GET':\n",
    "        query = request.GET.get('query', '')\n",
    "        # e.g 127.0.0.1:8000/userprofiles/?query=john\n",
    "        profiles = Profile.objects.filter(Q(username__icontains=query))\n",
    "        serializer = ProfileSerializer(profiles, many=True)\n",
    "        return Response(serializer.data, status=status.HTTP_200_OK)\n",
    "\n",
    "    if request.method == 'POST':\n",
    "        serializer = ProfileSerializer(data=request.data)\n",
    "        if serializer.is_valid():\n",
    "            serializer.save()\n",
    "            return Response(serializer.data, status=status.HTTP_201_CREATED)\n",
    "        return Response(serializer.errors, status=status.HTTP_400_BAD_REQUEST)\n",
    "\n",
    "    \n",
    "@api_view(['GET', 'PUT', 'DELETE', 'PATCH'])\n",
    "@permission_classes([IsAuthenticated])\n",
    "def userprofiledetail(request, pk):\n",
    "    try:\n",
    "        profile = Profile.objects.get(pk=pk)\n",
    "    except Profile.DoesNotExist:\n",
    "        return Response({\"detail\": \"Profile not found\"}, status=status.HTTP_404_NOT_FOUND)\n",
    "\n",
    "    if request.method == 'GET':\n",
    "        serializer = ProfileSerializer(profile, many=False)\n",
    "        return Response(serializer.data, status=status.HTTP_200_OK)\n",
    "\n",
    "    if request.method == 'PUT':\n",
    "        serializer = ProfileSerializer(profile, data=request.data)\n",
    "        if serializer.is_valid():\n",
    "            serializer.save()\n",
    "            return Response(serializer.data, status=status.HTTP_200_OK)\n",
    "        return Response(serializer.errors, status=status.HTTP_400_BAD_REQUEST)\n",
    "    \n",
    "    if request.method == 'PUT':\n",
    "        serializer = ProfileSerializer(profile, data=request.data)\n",
    "        if serializer.is_valid():\n",
    "            serializer.save()\n",
    "            return Response(serializer.data, status=status.HTTP_200_OK)\n",
    "        return Response(serializer.errors, status=status.HTTP_400_BAD_REQUEST)\n",
    "    \n",
    "    if request.method == 'PATCH':\n",
    "        serializer = ProfileSerializer(profile, data=request.data, partial=True)\n",
    "        serializer = ProfileSerializer(profile, data=request.data, partial=True)\n",
    "\n",
    "    if request.method == 'DELETE':\n",
    "        profile.delete()\n",
    "        return Response({\"detail\": \"Profile deleted successfully\"}, status=status.HTTP_204_NO_CONTENT)"
   ]
  },
  {
   "cell_type": "markdown",
   "metadata": {},
   "source": [
    "URLS.PY"
   ]
  },
  {
   "cell_type": "code",
   "execution_count": null,
   "metadata": {},
   "outputs": [],
   "source": [
    "path('userprofiles/', views.userprofiles, name= \"userprofiles\"),\n",
    "path('userprofile/<int:pk>', views.userprofiledetail, name='userprofiledetail'),"
   ]
  }
 ],
 "metadata": {
  "language_info": {
   "name": "python"
  },
  "orig_nbformat": 4
 },
 "nbformat": 4,
 "nbformat_minor": 2
}
